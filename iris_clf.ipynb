{
 "cells": [
  {
   "cell_type": "markdown",
   "metadata": {},
   "source": [
    "# Getting Started with BentoML\n",
    "\n",
    "[BentoML](http://bentoml.ai) is an open-source framework for high-performance machine learning model serving. It makes it easy to build production API endpoints for trained ML models and supports all major machine learning frameworks, including Tensorflow, Keras, PyTorch, XGBoost, scikit-learn, fastai, etc.\n",
    "\n",
    "BentoML comes with a high-performance API model server with adaptive micro-batching support, bringing the advantage of batch processing to online serving workloads. It also provides batch serving, model management and model deployment functionality, which gives ML teams an end-to-end model serving solution with baked-in DevOps best practices.\n",
    "\n",
    "This is a quick tutorial on how to use BentoML to serve a sklearn modeld via a REST API server, containerize the API model server with Docker, and deploy it to [AWS Lambda](https://aws.amazon.com/lambda/) as a serverless endpoint.\n",
    "\n",
    "![Impression](https://www.google-analytics.com/collect?v=1&tid=UA-112879361-3&cid=555&t=event&ec=guides&ea=bentoml-quick-start-guide&dt=bentoml-quick-start-guide)"
   ]
  },
  {
   "cell_type": "code",
   "execution_count": 1,
   "metadata": {},
   "outputs": [],
   "source": [
    "%reload_ext autoreload\n",
    "%autoreload 2\n",
    "%matplotlib inline"
   ]
  },
  {
   "cell_type": "markdown",
   "metadata": {},
   "source": [
    "BentoML requires python 3.6 or above, install dependencies via `pip`:"
   ]
  },
  {
   "cell_type": "code",
   "execution_count": 2,
   "metadata": {},
   "outputs": [
    {
     "name": "stdout",
     "output_type": "stream",
     "text": [
      "Requirement already satisfied: bentoml in /usr/lib/python3.8/site-packages (0.8.3)\n",
      "Requirement already satisfied: pandas in /usr/lib/python3.8/site-packages (1.0.5)\n",
      "Requirement already satisfied: sklearn in /usr/lib/python3.8/site-packages (0.0)\n",
      "Requirement already satisfied: alembic in /usr/lib/python3.8/site-packages (from bentoml) (1.4.2)\n",
      "Requirement already satisfied: python-dateutil<2.8.1,>=2.1 in /usr/lib/python3/dist-packages (from bentoml) (2.7.3)\n",
      "Requirement already satisfied: configparser in /usr/lib/python3.8/site-packages (from bentoml) (5.0.0)\n",
      "Requirement already satisfied: python-json-logger in /usr/lib/python3.8/site-packages (from bentoml) (0.1.11)\n",
      "Requirement already satisfied: docker in /usr/lib/python3.8/site-packages (from bentoml) (4.2.2)\n",
      "Requirement already satisfied: sqlalchemy>=1.3.0 in /usr/lib/python3.8/site-packages (from bentoml) (1.3.18)\n",
      "Requirement already satisfied: py-zipkin in /usr/lib/python3.8/site-packages (from bentoml) (0.20.0)\n",
      "Requirement already satisfied: tabulate in /usr/lib/python3.8/site-packages (from bentoml) (0.8.7)\n",
      "Requirement already satisfied: prometheus-client in /usr/lib/python3/dist-packages (from bentoml) (0.7.1)\n",
      "Requirement already satisfied: sqlalchemy-utils in /usr/lib/python3.8/site-packages (from bentoml) (0.36.8)\n",
      "Requirement already satisfied: requests in /usr/lib/python3/dist-packages (from bentoml) (2.22.0)\n",
      "Requirement already satisfied: packaging in /usr/lib/python3.8/site-packages (from bentoml) (20.4)\n",
      "Requirement already satisfied: humanfriendly in /usr/lib/python3.8/site-packages (from bentoml) (8.2)\n",
      "Requirement already satisfied: cerberus in /usr/lib/python3.8/site-packages (from bentoml) (1.3.2)\n",
      "Requirement already satisfied: boto3 in /usr/lib/python3.8/site-packages (from bentoml) (1.14.28)\n",
      "Requirement already satisfied: flask in /usr/lib/python3.8/site-packages (from bentoml) (1.1.2)\n",
      "Requirement already satisfied: click>=7.0 in /usr/lib/python3/dist-packages (from bentoml) (7.0)\n",
      "Requirement already satisfied: psutil in /usr/lib/python3.8/site-packages (from bentoml) (5.7.2)\n",
      "Requirement already satisfied: gunicorn in /usr/lib/python3.8/site-packages (from bentoml) (20.0.4)\n",
      "Requirement already satisfied: grpcio<=1.27.2 in /usr/lib/python3.8/site-packages (from bentoml) (1.27.2)\n",
      "Requirement already satisfied: aiohttp in /usr/lib/python3.8/site-packages (from bentoml) (3.6.2)\n",
      "Requirement already satisfied: numpy in /usr/local/lib/python3.8/dist-packages (from bentoml) (1.19.0)\n",
      "Requirement already satisfied: certifi in /usr/lib/python3/dist-packages (from bentoml) (2019.11.28)\n",
      "Requirement already satisfied: protobuf>=3.6.0 in /usr/lib/python3.8/site-packages (from bentoml) (3.12.2)\n",
      "Requirement already satisfied: ruamel.yaml>=0.15.0 in /usr/lib/python3.8/site-packages (from bentoml) (0.16.10)\n",
      "Requirement already satisfied: pytz>=2017.2 in /usr/lib/python3.8/site-packages (from pandas) (2020.1)\n",
      "Requirement already satisfied: scikit-learn in /usr/lib/python3.8/site-packages (from sklearn) (0.23.1)\n",
      "Requirement already satisfied: Mako in /usr/lib/python3.8/site-packages (from alembic->bentoml) (1.1.3)\n",
      "Requirement already satisfied: python-editor>=0.3 in /usr/lib/python3.8/site-packages (from alembic->bentoml) (1.0.4)\n",
      "Requirement already satisfied: websocket-client>=0.32.0 in /usr/lib/python3.8/site-packages (from docker->bentoml) (0.57.0)\n",
      "Requirement already satisfied: six>=1.4.0 in /usr/lib/python3/dist-packages (from docker->bentoml) (1.14.0)\n",
      "Requirement already satisfied: thriftpy2>=0.4.0 in /usr/lib/python3.8/site-packages (from py-zipkin->bentoml) (0.4.11)\n",
      "Requirement already satisfied: pyparsing>=2.0.2 in /usr/local/lib/python3.8/dist-packages (from packaging->bentoml) (2.4.7)\n",
      "Requirement already satisfied: setuptools in /usr/lib/python3/dist-packages (from cerberus->bentoml) (45.2.0)\n",
      "Requirement already satisfied: botocore<1.18.0,>=1.17.28 in /usr/lib/python3.8/site-packages (from boto3->bentoml) (1.17.28)\n",
      "Requirement already satisfied: jmespath<1.0.0,>=0.7.1 in /usr/lib/python3.8/site-packages (from boto3->bentoml) (0.10.0)\n",
      "Requirement already satisfied: s3transfer<0.4.0,>=0.3.0 in /usr/lib/python3.8/site-packages (from boto3->bentoml) (0.3.3)\n",
      "Requirement already satisfied: Werkzeug>=0.15 in /usr/lib/python3.8/site-packages (from flask->bentoml) (1.0.1)\n",
      "Requirement already satisfied: itsdangerous>=0.24 in /usr/lib/python3.8/site-packages (from flask->bentoml) (1.1.0)\n",
      "Requirement already satisfied: Jinja2>=2.10.1 in /usr/lib/python3/dist-packages (from flask->bentoml) (2.10.1)\n",
      "Requirement already satisfied: chardet<4.0,>=2.0 in /usr/lib/python3/dist-packages (from aiohttp->bentoml) (3.0.4)\n",
      "Requirement already satisfied: async-timeout<4.0,>=3.0 in /usr/lib/python3.8/site-packages (from aiohttp->bentoml) (3.0.1)\n",
      "Requirement already satisfied: yarl<2.0,>=1.0 in /usr/lib/python3.8/site-packages (from aiohttp->bentoml) (1.4.2)\n",
      "Requirement already satisfied: multidict<5.0,>=4.5 in /usr/lib/python3.8/site-packages (from aiohttp->bentoml) (4.7.6)\n",
      "Requirement already satisfied: attrs>=17.3.0 in /usr/lib/python3/dist-packages (from aiohttp->bentoml) (19.3.0)\n",
      "Requirement already satisfied: ruamel.yaml.clib>=0.1.2; platform_python_implementation == \"CPython\" and python_version < \"3.9\" in /usr/lib/python3.8/site-packages (from ruamel.yaml>=0.15.0->bentoml) (0.2.0)\n",
      "Requirement already satisfied: scipy>=0.19.1 in /usr/lib/python3.8/site-packages (from scikit-learn->sklearn) (1.5.2)\n",
      "Requirement already satisfied: joblib>=0.11 in /usr/lib/python3.8/site-packages (from scikit-learn->sklearn) (0.16.0)\n",
      "Requirement already satisfied: threadpoolctl>=2.0.0 in /usr/lib/python3.8/site-packages (from scikit-learn->sklearn) (2.1.0)\n",
      "Requirement already satisfied: MarkupSafe>=0.9.2 in /usr/lib/python3/dist-packages (from Mako->alembic->bentoml) (1.1.0)\n",
      "Requirement already satisfied: ply<4.0,>=3.4 in /usr/lib/python3.8/site-packages (from thriftpy2>=0.4.0->py-zipkin->bentoml) (3.11)\n",
      "Requirement already satisfied: docutils<0.16,>=0.10 in /usr/lib/python3.8/site-packages (from botocore<1.18.0,>=1.17.28->boto3->bentoml) (0.15.2)\n",
      "Requirement already satisfied: urllib3<1.26,>=1.20; python_version != \"3.4\" in /usr/lib/python3/dist-packages (from botocore<1.18.0,>=1.17.28->boto3->bentoml) (1.25.8)\n",
      "Requirement already satisfied: idna>=2.0 in /usr/lib/python3/dist-packages (from yarl<2.0,>=1.0->aiohttp->bentoml) (2.8)\n"
     ]
    }
   ],
   "source": [
    "# Install PyPI packages required in this guide, including BentoML\n",
    "!pip3 install bentoml pandas sklearn"
   ]
  },
  {
   "cell_type": "markdown",
   "metadata": {},
   "source": [
    "## Creating a Prediction Service with BentoML\n",
    "\n",
    "\n",
    "A minimal prediction service in BentoML looks something like this:"
   ]
  },
  {
   "cell_type": "code",
   "execution_count": 3,
   "metadata": {},
   "outputs": [
    {
     "name": "stdout",
     "output_type": "stream",
     "text": [
      "Overwriting iris_classifier.py\n"
     ]
    }
   ],
   "source": [
    "%%writefile iris_classifier.py\n",
    "from bentoml import env, artifacts, api, BentoService\n",
    "from bentoml.adapters import DataframeInput\n",
    "from bentoml.artifact import SklearnModelArtifact\n",
    "\n",
    "@env(auto_pip_dependencies=True)\n",
    "@artifacts([SklearnModelArtifact('model')])\n",
    "class IrisClassifier(BentoService):\n",
    "\n",
    "    @api(input=DataframeInput())\n",
    "    def predict(self, df):\n",
    "        # Optional pre-processing, post-processing code goes here\n",
    "        return self.artifacts.model.predict(df)"
   ]
  },
  {
   "cell_type": "markdown",
   "metadata": {},
   "source": [
    "This code defines a prediction service that bundles a scikit-learn model and provides an\n",
    "API that expects input data in the form of `pandas.Dataframe`. The user-defined API\n",
    "function `predict` defines how the input dataframe data will be processed and used for \n",
    "inference with the bundled scikit-learn model. BentoML also supports other API input \n",
    "types such as `ImageInput`, `JsonInput` and \n",
    "[more](https://docs.bentoml.org/en/latest/api/adapters.html).\n",
    "\n",
    "The following code trains a scikit-learn model and packages the trained model with the\n",
    "`IrisClassifier` class defined above. It then saves the IrisClassifier instance to disk \n",
    "in the BentoML SavedBundle format:"
   ]
  },
  {
   "cell_type": "code",
   "execution_count": 4,
   "metadata": {},
   "outputs": [
    {
     "name": "stdout",
     "output_type": "stream",
     "text": [
      "[2020-07-27 16:34:36,159] INFO - BentoService bundle 'IrisClassifier:20200727163421_432B4B' saved to: /root/bentoml/repository/IrisClassifier/20200727163421_432B4B\n"
     ]
    }
   ],
   "source": [
    "from sklearn import svm\n",
    "from sklearn import datasets\n",
    "\n",
    "# import the custom BentoService defined above\n",
    "from iris_classifier import IrisClassifier\n",
    "\n",
    "# Load training data\n",
    "iris = datasets.load_iris()\n",
    "X, y = iris.data, iris.target\n",
    "\n",
    "# Model Training\n",
    "clf = svm.SVC(gamma='scale')\n",
    "clf.fit(X, y)\n",
    "\n",
    "# Create a iris classifier service instance\n",
    "iris_classifier_service = IrisClassifier()\n",
    "\n",
    "# Pack the newly trained model artifact\n",
    "iris_classifier_service.pack('model', clf)\n",
    "\n",
    "# Save the prediction service to disk for model serving\n",
    "saved_path = iris_classifier_service.save()"
   ]
  },
  {
   "cell_type": "markdown",
   "metadata": {},
   "source": [
    "By default, BentoML stores SavedBundle files under the `~/bentoml` directory."
   ]
  },
  {
   "cell_type": "code",
   "execution_count": 5,
   "metadata": {},
   "outputs": [
    {
     "name": "stdout",
     "output_type": "stream",
     "text": [
      "saved_path: /root/bentoml/repository/IrisClassifier/20200727163421_432B4B\n",
      "version: 20200727163421_432B4B\n"
     ]
    }
   ],
   "source": [
    "# Where the SavedBundle directory is saved to\n",
    "print(\"saved_path:\", saved_path)\n",
    "\n",
    "# Print the auto-generated service version\n",
    "print(\"version:\", iris_classifier_service.version)"
   ]
  },
  {
   "cell_type": "code",
   "execution_count": 6,
   "metadata": {},
   "outputs": [],
   "source": [
    "git_dir = \"/home/project/IrisClassifier/my-irisclf\"\n",
    "!cp -r {saved_path}/. {git_dir}/"
   ]
  }
 ],
 "metadata": {
  "kernelspec": {
   "display_name": "Python 3",
   "language": "python",
   "name": "python3"
  },
  "language_info": {
   "codemirror_mode": {
    "name": "ipython",
    "version": 3
   },
   "file_extension": ".py",
   "mimetype": "text/x-python",
   "name": "python",
   "nbconvert_exporter": "python",
   "pygments_lexer": "ipython3",
   "version": "3.8.2"
  }
 },
 "nbformat": 4,
 "nbformat_minor": 2
}
